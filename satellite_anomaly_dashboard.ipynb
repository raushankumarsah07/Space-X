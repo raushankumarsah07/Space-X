{
 "cells": [
  {
   "cell_type": "markdown",
   "id": "2d7f2577",
   "metadata": {},
   "source": [
    "# 🚀 Satellite Telemetry Anomaly Detection & Predictive Maintenance\n",
    "This notebook simulates satellite telemetry data, detects anomalies, predicts potential subsystem failures, and provides recommendations."
   ]
  },
  {
   "cell_type": "code",
   "execution_count": null,
   "id": "9db8a130",
   "metadata": {},
   "outputs": [
    {
     "ename": "",
     "evalue": "",
     "output_type": "error",
     "traceback": [
      "\u001b[1;31mRunning cells with 'Python 3.12.5' requires the ipykernel package.\n",
      "\u001b[1;31m<a href='command:jupyter.createPythonEnvAndSelectController'>Create a Python Environment</a> with the required packages.\n",
      "\u001b[1;31mOr install 'ipykernel' using the command: '/usr/local/bin/python3.12 -m pip install ipykernel -U --user --force-reinstall'"
     ]
    }
   ],
   "source": [
    "\n",
    "import numpy as np\n",
    "import pandas as pd\n",
    "import matplotlib.pyplot as plt\n",
    "import seaborn as sns\n",
    "\n",
    "from sklearn.ensemble import IsolationForest\n",
    "from statsmodels.tsa.arima.model import ARIMA\n",
    "\n",
    "import warnings\n",
    "warnings.filterwarnings(\"ignore\")\n",
    "\n",
    "np.random.seed(42)\n"
   ]
  },
  {
   "cell_type": "markdown",
   "id": "ab0874a8",
   "metadata": {},
   "source": [
    "## 1. Simulate Telemetry Data"
   ]
  },
  {
   "cell_type": "code",
   "execution_count": null,
   "id": "e8479f0f",
   "metadata": {},
   "outputs": [],
   "source": [
    "\n",
    "# Time index\n",
    "time = pd.date_range(start=\"2025-01-01\", periods=500, freq=\"T\")\n",
    "\n",
    "# Normal telemetry values\n",
    "battery = np.clip(80 - 0.01*np.arange(500) + np.random.normal(0, 0.5, 500), 20, 100)\n",
    "temperature = np.clip(25 + 2*np.sin(np.linspace(0, 20, 500)) + np.random.normal(0, 0.5, 500), -20, 80)\n",
    "power = np.clip(100 + 10*np.sin(np.linspace(0, 10, 500)) + np.random.normal(0, 3, 500), 50, 150)\n",
    "current = np.clip(5 + 0.5*np.sin(np.linspace(0, 15, 500)) + np.random.normal(0, 0.2, 500), 2, 10)\n",
    "\n",
    "# Inject anomalies\n",
    "battery[100] -= 30\n",
    "temperature[250] += 40\n",
    "power[400] -= 50\n",
    "current[450] += 5\n",
    "\n",
    "# Create DataFrame\n",
    "df = pd.DataFrame({\n",
    "    \"time\": time,\n",
    "    \"battery\": battery,\n",
    "    \"temperature\": temperature,\n",
    "    \"power\": power,\n",
    "    \"current\": current\n",
    "}).set_index(\"time\")\n",
    "\n",
    "df.head()\n"
   ]
  },
  {
   "cell_type": "markdown",
   "id": "6a870120",
   "metadata": {},
   "source": [
    "## 2. Visualize Telemetry Data"
   ]
  },
  {
   "cell_type": "code",
   "execution_count": null,
   "id": "a059fdef",
   "metadata": {},
   "outputs": [],
   "source": [
    "\n",
    "fig, axes = plt.subplots(4, 1, figsize=(12,10), sharex=True)\n",
    "df[\"battery\"].plot(ax=axes[0], title=\"Battery (%)\")\n",
    "df[\"temperature\"].plot(ax=axes[1], title=\"Temperature (°C)\", color=\"orange\")\n",
    "df[\"power\"].plot(ax=axes[2], title=\"Power (W)\", color=\"green\")\n",
    "df[\"current\"].plot(ax=axes[3], title=\"Current (A)\", color=\"red\")\n",
    "plt.tight_layout()\n",
    "plt.show()\n"
   ]
  },
  {
   "cell_type": "markdown",
   "id": "6e1a44bb",
   "metadata": {},
   "source": [
    "## 3. Correlation Analysis"
   ]
  },
  {
   "cell_type": "code",
   "execution_count": null,
   "id": "c7e3424f",
   "metadata": {},
   "outputs": [],
   "source": [
    "\n",
    "plt.figure(figsize=(6,5))\n",
    "sns.heatmap(df.corr(), annot=True, cmap=\"coolwarm\", fmt=\".2f\")\n",
    "plt.title(\"Correlation Heatmap of Telemetry Data\")\n",
    "plt.show()\n"
   ]
  },
  {
   "cell_type": "markdown",
   "id": "3f7d6df4",
   "metadata": {},
   "source": [
    "## 4. Anomaly Detection - Threshold Based"
   ]
  },
  {
   "cell_type": "code",
   "execution_count": null,
   "id": "3055100b",
   "metadata": {},
   "outputs": [],
   "source": []
  },
  {
   "cell_type": "code",
   "execution_count": null,
   "id": "fc04c2ff",
   "metadata": {},
   "outputs": [],
   "source": [
    "\n",
    "def detect_threshold_anomalies(data, col, lower, upper):\n",
    "    anomalies = (data[col] < lower) | (data[col] > upper)\n",
    "    return anomalies\n",
    "\n",
    "thresholds = {\n",
    "    \"battery\": (30, 100),\n",
    "    \"temperature\": (-10, 60),\n",
    "    \"power\": (60, 140),\n",
    "    \"current\": (3, 8)\n",
    "}\n",
    "\n",
    "for col, (low, high) in thresholds.items():\n",
    "    df[col+\"_anomaly\"] = detect_threshold_anomalies(df, col, low, high)\n",
    "\n",
    "df[[\"battery_anomaly\", \"temperature_anomaly\", \"power_anomaly\", \"current_anomaly\"]].sum()\n"
   ]
  },
  {
   "cell_type": "markdown",
   "id": "defefd34",
   "metadata": {},
   "source": [
    "## 5. Anomaly Detection - Machine Learning (Isolation Forest)"
   ]
  },
  {
   "cell_type": "code",
   "execution_count": null,
   "id": "c87137c9",
   "metadata": {},
   "outputs": [],
   "source": [
    "\n",
    "iso = IsolationForest(contamination=0.02, random_state=42)\n",
    "df[\"ml_anomaly\"] = iso.fit_predict(df[[\"battery\",\"temperature\",\"power\",\"current\"]])\n",
    "df[\"ml_anomaly\"] = df[\"ml_anomaly\"].map({1:0, -1:1})\n",
    "\n",
    "print(\"Detected anomalies:\", df[\"ml_anomaly\"].sum())\n",
    "\n",
    "plt.figure(figsize=(12,5))\n",
    "plt.plot(df.index, df[\"battery\"], label=\"Battery\")\n",
    "plt.scatter(df.index[df[\"ml_anomaly\"]==1], df[\"battery\"][df[\"ml_anomaly\"]==1], color=\"red\", label=\"Anomaly\")\n",
    "plt.legend()\n",
    "plt.title(\"Battery with ML Anomalies\")\n",
    "plt.show()\n"
   ]
  },
  {
   "cell_type": "markdown",
   "id": "76d685f2",
   "metadata": {},
   "source": [
    "## 6. Predictive Maintenance - Forecasting Battery Life"
   ]
  },
  {
   "cell_type": "code",
   "execution_count": null,
   "id": "b804f635",
   "metadata": {},
   "outputs": [],
   "source": [
    "\n",
    "# Forecast battery using ARIMA\n",
    "model = ARIMA(df[\"battery\"], order=(2,1,2))\n",
    "fit = model.fit()\n",
    "forecast = fit.forecast(steps=50)\n",
    "\n",
    "plt.figure(figsize=(12,5))\n",
    "plt.plot(df.index, df[\"battery\"], label=\"Battery\")\n",
    "plt.plot(pd.date_range(df.index[-1], periods=50, freq=\"T\"), forecast, label=\"Forecast\", color=\"red\")\n",
    "plt.axhline(30, color=\"orange\", linestyle=\"--\", label=\"Critical Threshold\")\n",
    "plt.legend()\n",
    "plt.title(\"Battery Forecast (ARIMA)\")\n",
    "plt.show()\n"
   ]
  },
  {
   "cell_type": "markdown",
   "id": "10d30e62",
   "metadata": {},
   "source": [
    "## 7. Recommendation Engine"
   ]
  },
  {
   "cell_type": "code",
   "execution_count": null,
   "id": "7c3c3fe0",
   "metadata": {},
   "outputs": [],
   "source": [
    "\n",
    "def recommend_actions(row):\n",
    "    recs = []\n",
    "    if row[\"battery_anomaly\"]:\n",
    "        recs.append(\"Consider load shedding or entering safe mode due to low battery.\")\n",
    "    if row[\"temperature_anomaly\"]:\n",
    "        recs.append(\"High temperature detected, disable non-critical loads.\")\n",
    "    if row[\"power_anomaly\"]:\n",
    "        recs.append(\"Power anomaly, check solar panels or distribution system.\")\n",
    "    if row[\"current_anomaly\"]:\n",
    "        recs.append(\"Current spike detected, isolate faulty subsystem.\")\n",
    "    return recs\n",
    "\n",
    "df[\"recommendations\"] = df.apply(recommend_actions, axis=1)\n",
    "df[[\"battery\",\"temperature\",\"power\",\"current\",\"recommendations\"]].tail(10)\n"
   ]
  },
  {
   "cell_type": "markdown",
   "id": "dca4c7d9",
   "metadata": {},
   "source": [
    "## ✅ Summary\n",
    "- Simulated telemetry for battery, temperature, power, current.\n",
    "- Detected anomalies using thresholds & Isolation Forest.\n",
    "- Predicted battery depletion with ARIMA.\n",
    "- Generated prioritized recommendations.\n"
   ]
  }
 ],
 "metadata": {
  "kernelspec": {
   "display_name": ".venv",
   "language": "python",
   "name": "python3"
  },
  "language_info": {
   "name": "python",
   "version": "3.13.1"
  }
 },
 "nbformat": 4,
 "nbformat_minor": 5
}
